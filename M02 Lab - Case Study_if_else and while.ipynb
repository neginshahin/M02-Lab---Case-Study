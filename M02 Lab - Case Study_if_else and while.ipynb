{
 "cells": [
  {
   "cell_type": "code",
   "execution_count": 1,
   "id": "37642124",
   "metadata": {},
   "outputs": [
    {
     "name": "stdout",
     "output_type": "stream",
     "text": [
      "Enter the Student's Last Name or zzz to quit: Levine\n",
      "Enter the Student's First Name: Emma\n",
      "Enter the Student's GPA: 3.75\n",
      "Emma Levine has made the Dean's List!\n",
      "\n",
      "\n",
      "Enter the Student's Last Name or zzz to quit: Raven\n",
      "Enter the Student's First Name: Anna\n",
      "Enter the Student's GPA: 3.50\n",
      "Anna Raven has made the Dean's List!\n",
      "\n",
      "\n",
      "Enter the Student's Last Name or zzz to quit: Novak\n",
      "Enter the Student's First Name: Rick\n",
      "Enter the Student's GPA: 3.45\n",
      "Rick Novak has made the Honor Roll!\n",
      "\n",
      "\n",
      "Enter the Student's Last Name or zzz to quit: Johnson\n",
      "Enter the Student's First Name: Jeff\n",
      "Enter the Student's GPA: 3.25\n",
      "Jeff Johnson has made the Honor Roll!\n",
      "\n",
      "\n",
      "Enter the Student's Last Name or zzz to quit: Shahin\n",
      "Enter the Student's First Name: Negin\n",
      "Enter the Student's GPA: 3.20\n",
      "Negin Shahin did not make the Honor Roll or Dean's List!\n",
      "\n",
      "\n",
      "Enter the Student's Last Name or zzz to quit: zzz\n"
     ]
    }
   ],
   "source": [
    "# Negin Shahin\n",
    "# M02 Lab - Case Study: if...else and while\n",
    "# Description: This program checks the students' Names and GPAs and decides who qualifies for the Dean's list or Honor Roll.\n",
    "\n",
    "\n",
    "studentLastName = input (\"Enter the Student's Last Name or zzz to quit: \")\n",
    "while studentLastName != \"zzz\":\n",
    "    studentFirstName = input (\"Enter the Student's First Name: \")\n",
    "    gpa = float (input (\"Enter the Student's GPA: \"))\n",
    "    if gpa >= 3.25 and gpa < 3.50:\n",
    "        print (f\"{studentFirstName} {studentLastName} has made the Honor Roll!\")\n",
    "    elif gpa >= 3.50:\n",
    "        print (f\"{studentFirstName} {studentLastName} has made the Dean's List!\")\n",
    "    else:\n",
    "        print (f\"{studentFirstName} {studentLastName} did not make the Honor Roll or Dean's List!\")\n",
    "    print (\"\\n\")\n",
    "    studentLastName = input (\"Enter the Student's Last Name or zzz to quit: \")\n"
   ]
  }
 ],
 "metadata": {
  "kernelspec": {
   "display_name": "Python 3 (ipykernel)",
   "language": "python",
   "name": "python3"
  },
  "language_info": {
   "codemirror_mode": {
    "name": "ipython",
    "version": 3
   },
   "file_extension": ".py",
   "mimetype": "text/x-python",
   "name": "python",
   "nbconvert_exporter": "python",
   "pygments_lexer": "ipython3",
   "version": "3.11.5"
  }
 },
 "nbformat": 4,
 "nbformat_minor": 5
}
