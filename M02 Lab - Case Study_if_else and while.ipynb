{
 "cells": [
  {
   "cell_type": "code",
   "execution_count": 1,
   "id": "37642124",
   "metadata": {},
   "outputs": [
    {
     "name": "stdout",
     "output_type": "stream",
     "text": [
      "Enter the Student's Last Name or zzz to quit: Levine\n",
      "Enter the Student's First Name: Emma\n",
      "Enter the Student's GPA: 3.75\n",
      "Emma Levine has made the Dean's List!\n",
      "\n",
      "\n",
      "Enter the Student's Last Name or zzz to quit: Raven\n",
      "Enter the Student's First Name: Anna\n",
      "Enter the Student's GPA: 3.50\n",
      "Anna Raven has made the Dean's List!\n",
      "\n",
      "\n",
      "Enter the Student's Last Name or zzz to quit: Novak\n",
      "Enter the Student's First Name: Rick\n",
      "Enter the Student's GPA: 3.45\n",
      "Rick Novak has made the Honor Roll!\n",
      "\n",
      "\n",
      "Enter the Student's Last Name or zzz to quit: Johnson\n",
      "Enter the Student's First Name: Jeff\n",
      "Enter the Student's GPA: 3.25\n",
      "Jeff Johnson has made the Honor Roll!\n",
      "\n",
      "\n",
      "Enter the Student's Last Name or zzz to quit: Shahin\n",
      "Enter the Student's First Name: Negin\n",
      "Enter the Student's GPA: 3.20\n",
      "Negin Shahin did not make the Honor Roll or Dean's List!\n",
      "\n",
      "\n",
      "Enter the Student's Last Name or zzz to quit: zzz\n"
     ]
    }
   ],
   "source": [
    "# Negin Shahin\n",
    "# M02 Lab - Case Study: if...else and while\n",
    "# Description: This program checks the students' Names and GPAs and decides who qualifies for the Dean's list or Honor Roll.\n",
    "\n",
    "\n",
    "# Initialize lists to store student names and GPAs\n",
    "student_names = []\n",
    "student_gpas = []\n",
    "deans_gpa = 3.50\n",
    "honor_gpa = 3.25\n",
    "\n",
    "while True:\n",
    "    last_name = input(\"Enter the student's last name (or 'ZZZ' to quit): \")\n",
    "\n",
    "    if last_name == 'ZZZ':\n",
    "        break\n",
    "    \n",
    "    first_name = input(\"Enter the student's first name: \")\n",
    "    gpa = float(input(\"Enter the student's GPA: \"))\n",
    "\n",
    "    # Add student information to lists\n",
    "    student_names.append((first_name, last_name))\n",
    "    student_gpas.append(gpa)\n",
    "\n",
    "    # Test and print qualifications\n",
    "for i in range(len(student_names)):\n",
    "    first_name, last_name = student_names[i]\n",
    "    gpa = student_gpas[i]\n",
    "\n",
    "    if gpa >= deans_gpa:\n",
    "        print (f\"{first_name} {last_name} has made the Dean's List!\")\n",
    "    elif gpa >= honor_gpa:\n",
    "        print (f\"{first_name} {last_name} has made the Honor Roll!\")\n",
    "    else:\n",
    "        print (f\"{first_name} {last_name} did not make the Honor Roll or Dean's List!\")\n"
   ]
  }
 ],
 "metadata": {
  "kernelspec": {
   "display_name": "Python 3 (ipykernel)",
   "language": "python",
   "name": "python3"
  },
  "language_info": {
   "codemirror_mode": {
    "name": "ipython",
    "version": 3
   },
   "file_extension": ".py",
   "mimetype": "text/x-python",
   "name": "python",
   "nbconvert_exporter": "python",
   "pygments_lexer": "ipython3",
   "version": "3.11.5"
  }
 },
 "nbformat": 4,
 "nbformat_minor": 5
}
