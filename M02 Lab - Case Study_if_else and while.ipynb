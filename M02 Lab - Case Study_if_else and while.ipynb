# Negin Shahin
# M02 Lab - Case Study: if...else and while
# Description: This program checks the students' Names and GPAs and decides who qualifies for the Dean's list or Honor Roll.


# Initialize lists to store student names and GPAs
student_names = []
student_gpas = []
deans_gpa = 3.50
honor_gpa = 3.25

while True:
    last_name = input("Enter the student's last name (or 'ZZZ' to quit): ")

    if last_name == 'ZZZ':
        break
    
    first_name = input("Enter the student's first name: ")
    gpa = float(input("Enter the student's GPA: "))

    # Add student information to lists
    student_names.append((first_name, last_name))
    student_gpas.append(gpa)

    # Test and print qualifications
for i in range(len(student_names)):
    first_name, last_name = student_names[i]
    gpa = student_gpas[i]

    if gpa >= deans_gpa:
        print (f"{first_name} {last_name} has made the Dean's List!")
    elif gpa >= honor_gpa:
        print (f"{first_name} {last_name} has made the Honor Roll!")
    else:
        print (f"{first_name} {last_name} did not make the Honor Roll or Dean's List!")
